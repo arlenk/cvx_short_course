{
 "cells": [
  {
   "cell_type": "markdown",
   "metadata": {},
   "source": [
    "# DCP analysis\n",
    "\n",
    "In this exercise, you will fix optimization problems that break the DCP rules by identifying the DCP error and then rewriting the problem."
   ]
  },
  {
   "cell_type": "code",
   "execution_count": null,
   "metadata": {},
   "outputs": [],
   "source": [
    "# Problem 1.\n",
    "import cvxpy as cvx\n",
    "\n",
    "x = cvx.Variable()\n",
    "cost = (x**2 + 1)**0.5\n",
    "prob = cvx.Problem(cvx.Minimize(cost))\n",
    "prob.solve()\n",
    "\n",
    "# TODO explain why the problem isn't DCP and rewrite it to satisfy DCP.\n"
   ]
  },
  {
   "cell_type": "code",
   "execution_count": null,
   "metadata": {},
   "outputs": [],
   "source": [
    "# Problem 2.\n",
    "import cvxpy as cvx\n",
    "\n",
    "x = cvx.Variable()\n",
    "prob = cvx.Problem(cvx.Minimize(x + 2),\n",
    "                   [5 == 2*cvx.inv_pos(x)])\n",
    "prob.solve()\n",
    "\n",
    "# TODO explain why the problem isn't DCP and rewrite it to satisfy DCP.\n"
   ]
  },
  {
   "cell_type": "code",
   "execution_count": null,
   "metadata": {},
   "outputs": [],
   "source": [
    "# Problem 3.\n",
    "import cvxpy as cvx\n",
    "\n",
    "x = cvx.Variable()\n",
    "prob = cvx.Problem(cvx.Minimize(x + 2),\n",
    "                   [5 <= 2*x**-2])\n",
    "prob.solve()\n",
    "\n",
    "# TODO explain why the problem isn't DCP and rewrite it to satisfy DCP.\n"
   ]
  },
  {
   "cell_type": "code",
   "execution_count": null,
   "metadata": {},
   "outputs": [],
   "source": [
    "# Problem 4.\n",
    "import cvxpy as cvx\n",
    "\n",
    "x = cvx.Variable()\n",
    "y = cvx.Variable()\n",
    "prob = cvx.Problem(cvx.Minimize(cvx.pos(x)),\n",
    "                   [0 <= cvx.quad_over_lin(x,y),\n",
    "                    y >= 1])\n",
    "prob.solve()\n",
    "\n",
    "# TODO explain why the problem isn't DCP and rewrite it to satisfy DCP.\n"
   ]
  },
  {
   "cell_type": "code",
   "execution_count": null,
   "metadata": {},
   "outputs": [],
   "source": [
    "# Problem 5.\n",
    "import cvxpy as cvx\n",
    "\n",
    "x = cvx.Variable()\n",
    "prob = cvx.Problem(cvx.Minimize(x + 2),\n",
    "                   [cvx.exp(2*x) + cvx.exp(3*x) <= cvx.exp(5*x)])\n",
    "prob.solve()\n",
    "\n",
    "# TODO explain why the problem isn't DCP and rewrite it to satisfy DCP.\n"
   ]
  },
  {
   "cell_type": "code",
   "execution_count": null,
   "metadata": {},
   "outputs": [],
   "source": [
    "# Bonus problem. Do this for extra credit.\n",
    "import cvxpy as cvx\n",
    "import numpy as np\n",
    "\n",
    "x = cvx.Variable()\n",
    "prob = cvx.Problem(cvx.Maximize( -(cvx.max_elemwise(x, 4) - 3)**2 ),\n",
    "                   [x >= 1])\n",
    "prob.solve()\n",
    "\n",
    "# TODO explain why the problem isn't DCP and rewrite it to satisfy DCP.\n"
   ]
  },
  {
   "cell_type": "code",
   "execution_count": null,
   "metadata": {},
   "outputs": [],
   "source": [
    "# Bonus problem. Do this for extra credit.\n",
    "# This is a real problem from the CVXPY forum.\n",
    "import cvxpy as cvx\n",
    "import numpy as np\n",
    "m = 10\n",
    "np.random.seed(1)\n",
    "c = np.random.randn(m)\n",
    "c = np.abs(c) # Important: This is nonnegative.\n",
    "u = np.random.randn(m)\n",
    "u = np.abs(u) # Important: This is nonnegative.\n",
    "\n",
    "x = cvx.Variable(m)\n",
    "cost = sum([c[i]*x[i]*cvx.inv_pos(u[i] - x[i]) for i in range(m)])\n",
    "prob = cvx.Problem(cvx.Minimize(cost))\n",
    "prob.solve()\n",
    "\n",
    "# TODO explain why the problem isn't DCP and rewrite it to satisfy DCP.\n"
   ]
  }
 ],
 "metadata": {
  "kernelspec": {
   "display_name": "Python 3",
   "language": "python",
   "name": "python3"
  },
  "language_info": {
   "codemirror_mode": {
    "name": "ipython",
    "version": 3
   },
   "file_extension": ".py",
   "mimetype": "text/x-python",
   "name": "python",
   "nbconvert_exporter": "python",
   "pygments_lexer": "ipython3",
   "version": "3.6.6"
  }
 },
 "nbformat": 4,
 "nbformat_minor": 1
}
