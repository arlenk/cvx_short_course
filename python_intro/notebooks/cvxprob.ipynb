{
 "cells": [
  {
   "cell_type": "markdown",
   "metadata": {},
   "source": [
    "# CVXPY\n",
    "\n",
    "This Python notebook shows a basic example using CVXPY."
   ]
  },
  {
   "cell_type": "code",
   "execution_count": 1,
   "metadata": {},
   "outputs": [
    {
     "name": "stdout",
     "output_type": "stream",
     "text": [
      "[1.84926489e-01 4.25089902e-01 1.27003609e-09 1.64302768e-11\n",
      " 1.47246919e-10 1.68035728e-01 6.99498925e-11]\n",
      "[2.31776956e-09 1.33582003e-09 4.28269068e-01 4.44104755e+00\n",
      " 2.45354820e+00 2.73715259e-09 3.24159685e+00]\n"
     ]
    }
   ],
   "source": [
    "import cvxpy as cvx\n",
    "import numpy as np\n",
    "\n",
    "# Problem data.\n",
    "m = 10\n",
    "n = 7\n",
    "np.random.seed(1)\n",
    "A = np.random.randn(m, n)\n",
    "b = np.random.randn(m)\n",
    "\n",
    "# Construct the problem.\n",
    "x = cvx.Variable(n)\n",
    "# *, +, -, / are overloaded to construct CVXPY objects.\n",
    "cost = cvx.sum_squares(A*x - b)\n",
    "objective = cvx.Minimize(cost)\n",
    "# <=, >=, == are overloaded to construct CVXPY constraints.\n",
    "constraints = [0 <= x, x <= 1]\n",
    "prob = cvx.Problem(objective, constraints)\n",
    "\n",
    "# The optimal objective is returned by prob.solve().\n",
    "result = prob.solve()\n",
    "# The optimal value for x is stored in x.value.\n",
    "print(x.value)\n",
    "# The optimal Lagrange multiplier for a constraint\n",
    "# is stored in constraint.dual_value.\n",
    "print(constraints[0].dual_value)"
   ]
  }
 ],
 "metadata": {
  "kernelspec": {
   "display_name": "Python 3",
   "language": "python",
   "name": "python3"
  },
  "language_info": {
   "codemirror_mode": {
    "name": "ipython",
    "version": 3
   },
   "file_extension": ".py",
   "mimetype": "text/x-python",
   "name": "python",
   "nbconvert_exporter": "python",
   "pygments_lexer": "ipython3",
   "version": "3.6.6"
  }
 },
 "nbformat": 4,
 "nbformat_minor": 1
}
