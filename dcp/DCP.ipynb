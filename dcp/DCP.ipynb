{
 "cells": [
  {
   "cell_type": "code",
   "execution_count": 1,
   "metadata": {},
   "outputs": [
    {
     "name": "stdout",
     "output_type": "stream",
     "text": [
      "expression curvature = CONVEX\n",
      "expression sign = NONNEGATIVE\n",
      "expression is DCP? True\n"
     ]
    }
   ],
   "source": [
    "# DCP analysis in CVXPY\n",
    "import cvxpy as cvx\n",
    "\n",
    "x = cvx.Variable()\n",
    "y = cvx.Variable()\n",
    "expr = cvx.quad_over_lin(x - y, 1 - cvx.maximum(x,y))\n",
    "\n",
    "print(\"expression curvature = {}\".format(expr.curvature))\n",
    "print(\"expression sign = {}\".format(expr.sign))\n",
    "print(\"expression is DCP? {}\".format(expr.is_dcp()))"
   ]
  }
 ],
 "metadata": {
  "kernelspec": {
   "display_name": "Python 3",
   "language": "python",
   "name": "python3"
  },
  "language_info": {
   "codemirror_mode": {
    "name": "ipython",
    "version": 3
   },
   "file_extension": ".py",
   "mimetype": "text/x-python",
   "name": "python",
   "nbconvert_exporter": "python",
   "pygments_lexer": "ipython3",
   "version": "3.6.6"
  }
 },
 "nbformat": 4,
 "nbformat_minor": 1
}
